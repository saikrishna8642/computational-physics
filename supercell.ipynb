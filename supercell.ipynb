{
 "cells": [
  {
   "cell_type": "code",
   "execution_count": 5,
   "metadata": {},
   "outputs": [],
   "source": [
    "import numpy as np\n",
    "import imp\n",
    "import re\n",
    "def supercell():\n",
    "    print(\"\\nThis code constructs a supercell from the unit cell passed as input by the user(only cubic).\") \n",
    "    with open('input.txt') as readr:\n",
    "        global data\n",
    "        data = imp.load_source('data','input.txt', readr)\n",
    "    x = np.zeros(3)\n",
    "    i = 0\n",
    "    while i<3:\n",
    "        x[i] = data.acell[i]\n",
    "        x[i] = x[i]*data.scell[i]\n",
    "        i+=1\n",
    "    xred = np.array([])\n",
    "    prim = np.zeros((3,3))\n",
    "    a = int(data.atoms/data.ntype)\n",
    "    prim[0] = np.divide(data.primv[0],data.scell[0])\n",
    "    prim[1] = np.divide(data.primv[1],data.scell[1])\n",
    "    prim[2] = np.divide(data.primv[2],data.scell[2])\n",
    "    red = np.divide(data.red,data.scell)\n",
    "    data.acell = np.multiply(data.acell,data.scell)\n",
    "    for h in range(0,data.ntype):\n",
    "        i = 0\n",
    "        while i<data.scell[2]:\n",
    "            j = 0\n",
    "            d = np.add((i/data.scell[2]),red[h*a][2])\n",
    "            while j<data.scell[1]:\n",
    "                k = 0\n",
    "                c = np.add((j/data.scell[1]),red[h*a][1])\n",
    "                while k<data.scell[0]:\n",
    "                    m = np.zeros((a,3))\n",
    "                    b = np.add((k/data.scell[0]),red[h*a][0])\n",
    "                    m[0][0] = b\n",
    "                    m[0][1] = c\n",
    "                    m[0][2] = d\n",
    "                    for q in range(1,a):\n",
    "                        for r in range(0,3):\n",
    "                            m[q][r] = (m[0][r]-prim[q-1][r])\n",
    "                            m[q][r] = round(float(m[q][r]),5)\n",
    "                            m[q][r] = m[q][r]%1\n",
    "                    xred = np.append(xred,m)\n",
    "                    k+=1\n",
    "                j+=1\n",
    "            i+=1\n",
    "    xred = np.reshape(xred,(-1,3))\n",
    "    data.primv = np.reshape(data.primv,(-1,3))\n",
    "    xred = str(xred)\n",
    "    data.acell = str(data.acell)\n",
    "    data.primv = str(data.primv)\n",
    "    data.scell = str(data.scell)\n",
    "    data.acell = re.sub(r\"[\\([{}),\\]]\", \"\", data.acell)\n",
    "    data.scell = re.sub(r\"[\\([{}),\\]]\", \"\", data.scell)\n",
    "    data.primv = re.sub(r\"[\\([{}),\\]]\", \"\", data.primv)\n",
    "    xred = re.sub(r\"[\\([{}),\\]]\", \"\", xred)\n",
    "    \"\"\"with open('output.txt','w') as writer:\n",
    "        writer.write(\"acell\\t\"+data.acell+\"\\n\")\n",
    "        writer.write(\"xred\\t\"+xred+\"\\n\")\n",
    "        writer.write(\"rprim\\t\"+data.primv+\"\\n\")\n",
    "        writer.write(\"supercell_latt\\t\"+data.scell+\"\\n\")\"\"\"\n",
    "    return\n"
   ]
  },
  {
   "cell_type": "code",
   "execution_count": 6,
   "metadata": {},
   "outputs": [
    {
     "name": "stdout",
     "output_type": "stream",
     "text": [
      "\n",
      "This code constructs a supercell from the unit cell passed as input by the user(only cubic).\n"
     ]
    }
   ],
   "source": [
    "supercell()"
   ]
  },
  {
   "cell_type": "code",
   "execution_count": null,
   "metadata": {},
   "outputs": [],
   "source": []
  }
 ],
 "metadata": {
  "kernelspec": {
   "display_name": "Python 3 (ipykernel)",
   "language": "python",
   "name": "python3"
  },
  "language_info": {
   "codemirror_mode": {
    "name": "ipython",
    "version": 3
   },
   "file_extension": ".py",
   "mimetype": "text/x-python",
   "name": "python",
   "nbconvert_exporter": "python",
   "pygments_lexer": "ipython3",
   "version": "3.7.6"
  }
 },
 "nbformat": 4,
 "nbformat_minor": 4
}
